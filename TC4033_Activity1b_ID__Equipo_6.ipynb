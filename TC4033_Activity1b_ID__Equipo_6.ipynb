{
  "cells": [
    {
      "cell_type": "markdown",
      "metadata": {
        "id": "view-in-github",
        "colab_type": "text"
      },
      "source": [
        "<a href=\"https://colab.research.google.com/github/Handrum/ML_Equipo_6/blob/main/TC4033_Activity1b_ID__Equipo_6.ipynb\" target=\"_parent\"><img src=\"https://colab.research.google.com/assets/colab-badge.svg\" alt=\"Open In Colab\"/></a>"
      ]
    },
    {
      "cell_type": "markdown",
      "source": [
        ">\n",
        "![evidencia3](https://i.imgur.com/mu6ZuGT.jpg)\n",
        "\n",
        "# **Maestría en Inteligencia Artificial Aplicada**\n",
        "## **Curso: Advance Machine Learning Methods**\n",
        "* ### **Maestro Titular**: José Antonio Cantoral Ceballos\n",
        "* **Tutor: Ana Bricia Galindo**\n",
        "\n",
        "## **Actividad 1b: Implementing a Fully Connected Network for Kaggle ASL Dataset**\n",
        "\n",
        "*   --> Rafael Alexis Pinto Flórez | A01794500\n",
        "*   --> Julio Baltazar Colín | A01794476\n",
        "*   --> José Santiago Rueda Antonio | A01794118\n",
        "*   --> Helmy Andrea Moreno Navarro | A01793918"
      ],
      "metadata": {
        "id": "YiYndwjb5-lo"
      }
    },
    {
      "cell_type": "markdown",
      "metadata": {
        "id": "WKEkAAweeRxf"
      },
      "source": [
        "# TC 5033\n",
        "## Deep Learning\n",
        "## Fully Connected Deep Neural Networks\n",
        "\n",
        "#### Activity 1b: Implementing a Fully Connected Network for Kaggle ASL Dataset\n",
        "\n",
        "- **Objective***\n",
        "\n",
        "The aim of this part of the activity is to apply your understanding of Fully Connected Networks by implementing a multilayer network for the [Kaggle ASL (American Sign Language) dataset](https://www.kaggle.com/datasets/grassknoted/asl-alphabet). While you have been provided with a complete solution for a Fully Connected Network using Numpy for the MNIST dataset, you are encouraged to try to come up with the solution.\n",
        "\n",
        "- **Instructions**\n",
        "\n",
        "    This activity requires submission in teams of 3 or 4 members. Submissions from smaller or larger teams will not be accepted unless prior approval has been granted (only due to exceptional circumstances). While teamwork is encouraged, each member is expected to contribute individually to the assignment. The final submission should feature the best arguments and solutions from each team member. Only one person per team needs to submit the completed work, but it is imperative that the names of all team members are listed in a Markdown cell at the very beginning of the notebook (either the first or second cell). Failure to include all team member names will result in the grade being awarded solely to the individual who submitted the assignment, with zero points given to other team members (no exceptions will be made to this rule).\n",
        "\n",
        "    **Load and Preprocess Data**: You are provided a starter code to load the data. Be sure to understand the code.\n",
        "\n",
        "    **Review MNIST Notebook (Optional)**: Before diving into this activity, you have the option to revisit the MNIST example to refresh your understanding of how to build a Fully Connected Network using Numpy.\n",
        "\n",
        "    **Start Fresh**: Although you can refer to the MNIST solution at any point, try to implement the network for the ASL dataset on your own. This will reinforce your learning and understanding of the architecture and mathematics involved.\n",
        "\n",
        "    **Implement Forward and Backward Pass**: Write the code to perform the forward and backward passes, keeping in mind the specific challenges and characteristics of the ASL dataset.\n",
        "    \n",
        "     Design the Network: Create the architecture of the Fully Connected Network tailored for the ASL dataset. Choose the number of hidden layers, neurons, and hyperparameters judiciously.\n",
        "\n",
        "    Train the Model: Execute the training loop, ensuring to track performance metrics such as loss and accuracy.\n",
        "\n",
        "    **Analyze and Document**: Use Markdown cells to document in detail the choices you made in terms of architecture and hyperparameters, you may use figures, equations, etc to aid in your explanations. Include any metrics that help justify these choices and discuss the model's performance.  \n",
        "\n",
        "- **Evaluation Criteria**\n",
        "\n",
        "    - Code Readability and Comments\n",
        "    - Appropriateness of chosen architecture and hyperparameters for the ASL dataset\n",
        "    - Performance of the model on the ASL dataset (at least 70% acc)\n",
        "    - Quality of Markdown documentation\n",
        "\n",
        "- **Submission**\n",
        "\n",
        "Submit this Jupyter Notebook in canvas with your complete solution, ensuring your code is well-commented and includes Markdown cells that explain your design choices, results, and any challenges you encountered.\n"
      ]
    },
    {
      "cell_type": "markdown",
      "source": [
        "### Importación de librerias para realizar el ejercicio y que matploid grafique en el mismo archivo"
      ],
      "metadata": {
        "id": "YJrTcHFU4QSV"
      }
    },
    {
      "cell_type": "code",
      "execution_count": 1,
      "metadata": {
        "id": "tlfs8Oi-eRxi"
      },
      "outputs": [],
      "source": [
        "import numpy as np\n",
        "import string\n",
        "import pandas as pd\n",
        "import matplotlib.pyplot as plt\n",
        "import cv2 as cv\n",
        "import os\n",
        "import urllib.request\n",
        "import requests\n",
        "from io import StringIO, BytesIO, TextIOWrapper\n",
        "from zipfile import ZipFile\n",
        "\n",
        "%load_ext autoreload\n",
        "%autoreload 2\n",
        "#################################\n",
        "%matplotlib inline\n"
      ]
    },
    {
      "cell_type": "markdown",
      "source": [
        "### Se descargan los datos de un drive porque ahí lo subimos al igual que desarrollamos los siguientes pasos:\n",
        "\n",
        "\n",
        "1.   Descromprimimos el archivo de mnist\n",
        "2.   Convertimos los datos a Texto\n",
        "3.   pasamos los datos a formato pandas CSV\n",
        "\n"
      ],
      "metadata": {
        "id": "G8kH2JGIRza_"
      }
    },
    {
      "cell_type": "code",
      "source": [
        "# Define the base URL of the raw zip files\n",
        "zip_link  ='https://drive.usercontent.google.com/download?id=1mbYrnaCWEaCAC-7tSlWCx2xhUIzkvvAG&export=download&authuser=0&confirm=t&uuid=16705fd0-33cb-4ac2-8432-0ad96b5afe51&at=APZUnTUW2xc_hmtGD5tXxb-by_Gv:1695432904814'\n",
        "\n",
        "# Load the training and validation data\n",
        "response = requests.get(zip_link)\n",
        "zipfile = ZipFile(BytesIO(response.content))\n",
        "data = TextIOWrapper(zipfile.open('asl_data/sign_mnist_train.csv'), encoding='utf-8')\n",
        "train_df = pd.read_csv(StringIO(data.read()))\n",
        "data = TextIOWrapper(zipfile.open('asl_data/sign_mnist_valid.csv'), encoding='utf-8')\n",
        "valid_df = pd.read_csv(StringIO(data.read()))\n",
        "\n",
        "\n"
      ],
      "metadata": {
        "id": "GxHzcqh6nBVV"
      },
      "execution_count": 2,
      "outputs": []
    },
    {
      "cell_type": "markdown",
      "source": [
        "### Imprimimos el dataframe y podemos observar lo siguiente:\n",
        "***784*** pixeles y tenemos la etiqueta. La imagén se compone de 28x28"
      ],
      "metadata": {
        "id": "y3-81ynOSYY2"
      }
    },
    {
      "cell_type": "code",
      "execution_count": 3,
      "metadata": {
        "colab": {
          "base_uri": "https://localhost:8080/",
          "height": 236
        },
        "id": "YuB37MlieRxk",
        "outputId": "445c6673-a853-4ad7-d26b-7a4998644a3a"
      },
      "outputs": [
        {
          "output_type": "execute_result",
          "data": {
            "text/plain": [
              "   label  pixel1  pixel2  pixel3  pixel4  pixel5  pixel6  pixel7  pixel8  \\\n",
              "0      3     107     118     127     134     139     143     146     150   \n",
              "1      6     155     157     156     156     156     157     156     158   \n",
              "2      2     187     188     188     187     187     186     187     188   \n",
              "3      2     211     211     212     212     211     210     211     210   \n",
              "4     12     164     167     170     172     176     179     180     184   \n",
              "\n",
              "   pixel9  ...  pixel775  pixel776  pixel777  pixel778  pixel779  pixel780  \\\n",
              "0     153  ...       207       207       207       207       206       206   \n",
              "1     158  ...        69       149       128        87        94       163   \n",
              "2     187  ...       202       201       200       199       198       199   \n",
              "3     210  ...       235       234       233       231       230       226   \n",
              "4     185  ...        92       105       105       108       133       163   \n",
              "\n",
              "   pixel781  pixel782  pixel783  pixel784  \n",
              "0       206       204       203       202  \n",
              "1       175       103       135       149  \n",
              "2       198       195       194       195  \n",
              "3       225       222       229       163  \n",
              "4       157       163       164       179  \n",
              "\n",
              "[5 rows x 785 columns]"
            ],
            "text/html": [
              "\n",
              "  <div id=\"df-68c30ca9-ea9d-4ec5-8bbb-22ecec3ed2fd\" class=\"colab-df-container\">\n",
              "    <div>\n",
              "<style scoped>\n",
              "    .dataframe tbody tr th:only-of-type {\n",
              "        vertical-align: middle;\n",
              "    }\n",
              "\n",
              "    .dataframe tbody tr th {\n",
              "        vertical-align: top;\n",
              "    }\n",
              "\n",
              "    .dataframe thead th {\n",
              "        text-align: right;\n",
              "    }\n",
              "</style>\n",
              "<table border=\"1\" class=\"dataframe\">\n",
              "  <thead>\n",
              "    <tr style=\"text-align: right;\">\n",
              "      <th></th>\n",
              "      <th>label</th>\n",
              "      <th>pixel1</th>\n",
              "      <th>pixel2</th>\n",
              "      <th>pixel3</th>\n",
              "      <th>pixel4</th>\n",
              "      <th>pixel5</th>\n",
              "      <th>pixel6</th>\n",
              "      <th>pixel7</th>\n",
              "      <th>pixel8</th>\n",
              "      <th>pixel9</th>\n",
              "      <th>...</th>\n",
              "      <th>pixel775</th>\n",
              "      <th>pixel776</th>\n",
              "      <th>pixel777</th>\n",
              "      <th>pixel778</th>\n",
              "      <th>pixel779</th>\n",
              "      <th>pixel780</th>\n",
              "      <th>pixel781</th>\n",
              "      <th>pixel782</th>\n",
              "      <th>pixel783</th>\n",
              "      <th>pixel784</th>\n",
              "    </tr>\n",
              "  </thead>\n",
              "  <tbody>\n",
              "    <tr>\n",
              "      <th>0</th>\n",
              "      <td>3</td>\n",
              "      <td>107</td>\n",
              "      <td>118</td>\n",
              "      <td>127</td>\n",
              "      <td>134</td>\n",
              "      <td>139</td>\n",
              "      <td>143</td>\n",
              "      <td>146</td>\n",
              "      <td>150</td>\n",
              "      <td>153</td>\n",
              "      <td>...</td>\n",
              "      <td>207</td>\n",
              "      <td>207</td>\n",
              "      <td>207</td>\n",
              "      <td>207</td>\n",
              "      <td>206</td>\n",
              "      <td>206</td>\n",
              "      <td>206</td>\n",
              "      <td>204</td>\n",
              "      <td>203</td>\n",
              "      <td>202</td>\n",
              "    </tr>\n",
              "    <tr>\n",
              "      <th>1</th>\n",
              "      <td>6</td>\n",
              "      <td>155</td>\n",
              "      <td>157</td>\n",
              "      <td>156</td>\n",
              "      <td>156</td>\n",
              "      <td>156</td>\n",
              "      <td>157</td>\n",
              "      <td>156</td>\n",
              "      <td>158</td>\n",
              "      <td>158</td>\n",
              "      <td>...</td>\n",
              "      <td>69</td>\n",
              "      <td>149</td>\n",
              "      <td>128</td>\n",
              "      <td>87</td>\n",
              "      <td>94</td>\n",
              "      <td>163</td>\n",
              "      <td>175</td>\n",
              "      <td>103</td>\n",
              "      <td>135</td>\n",
              "      <td>149</td>\n",
              "    </tr>\n",
              "    <tr>\n",
              "      <th>2</th>\n",
              "      <td>2</td>\n",
              "      <td>187</td>\n",
              "      <td>188</td>\n",
              "      <td>188</td>\n",
              "      <td>187</td>\n",
              "      <td>187</td>\n",
              "      <td>186</td>\n",
              "      <td>187</td>\n",
              "      <td>188</td>\n",
              "      <td>187</td>\n",
              "      <td>...</td>\n",
              "      <td>202</td>\n",
              "      <td>201</td>\n",
              "      <td>200</td>\n",
              "      <td>199</td>\n",
              "      <td>198</td>\n",
              "      <td>199</td>\n",
              "      <td>198</td>\n",
              "      <td>195</td>\n",
              "      <td>194</td>\n",
              "      <td>195</td>\n",
              "    </tr>\n",
              "    <tr>\n",
              "      <th>3</th>\n",
              "      <td>2</td>\n",
              "      <td>211</td>\n",
              "      <td>211</td>\n",
              "      <td>212</td>\n",
              "      <td>212</td>\n",
              "      <td>211</td>\n",
              "      <td>210</td>\n",
              "      <td>211</td>\n",
              "      <td>210</td>\n",
              "      <td>210</td>\n",
              "      <td>...</td>\n",
              "      <td>235</td>\n",
              "      <td>234</td>\n",
              "      <td>233</td>\n",
              "      <td>231</td>\n",
              "      <td>230</td>\n",
              "      <td>226</td>\n",
              "      <td>225</td>\n",
              "      <td>222</td>\n",
              "      <td>229</td>\n",
              "      <td>163</td>\n",
              "    </tr>\n",
              "    <tr>\n",
              "      <th>4</th>\n",
              "      <td>12</td>\n",
              "      <td>164</td>\n",
              "      <td>167</td>\n",
              "      <td>170</td>\n",
              "      <td>172</td>\n",
              "      <td>176</td>\n",
              "      <td>179</td>\n",
              "      <td>180</td>\n",
              "      <td>184</td>\n",
              "      <td>185</td>\n",
              "      <td>...</td>\n",
              "      <td>92</td>\n",
              "      <td>105</td>\n",
              "      <td>105</td>\n",
              "      <td>108</td>\n",
              "      <td>133</td>\n",
              "      <td>163</td>\n",
              "      <td>157</td>\n",
              "      <td>163</td>\n",
              "      <td>164</td>\n",
              "      <td>179</td>\n",
              "    </tr>\n",
              "  </tbody>\n",
              "</table>\n",
              "<p>5 rows × 785 columns</p>\n",
              "</div>\n",
              "    <div class=\"colab-df-buttons\">\n",
              "\n",
              "  <div class=\"colab-df-container\">\n",
              "    <button class=\"colab-df-convert\" onclick=\"convertToInteractive('df-68c30ca9-ea9d-4ec5-8bbb-22ecec3ed2fd')\"\n",
              "            title=\"Convert this dataframe to an interactive table.\"\n",
              "            style=\"display:none;\">\n",
              "\n",
              "  <svg xmlns=\"http://www.w3.org/2000/svg\" height=\"24px\" viewBox=\"0 -960 960 960\">\n",
              "    <path d=\"M120-120v-720h720v720H120Zm60-500h600v-160H180v160Zm220 220h160v-160H400v160Zm0 220h160v-160H400v160ZM180-400h160v-160H180v160Zm440 0h160v-160H620v160ZM180-180h160v-160H180v160Zm440 0h160v-160H620v160Z\"/>\n",
              "  </svg>\n",
              "    </button>\n",
              "\n",
              "  <style>\n",
              "    .colab-df-container {\n",
              "      display:flex;\n",
              "      gap: 12px;\n",
              "    }\n",
              "\n",
              "    .colab-df-convert {\n",
              "      background-color: #E8F0FE;\n",
              "      border: none;\n",
              "      border-radius: 50%;\n",
              "      cursor: pointer;\n",
              "      display: none;\n",
              "      fill: #1967D2;\n",
              "      height: 32px;\n",
              "      padding: 0 0 0 0;\n",
              "      width: 32px;\n",
              "    }\n",
              "\n",
              "    .colab-df-convert:hover {\n",
              "      background-color: #E2EBFA;\n",
              "      box-shadow: 0px 1px 2px rgba(60, 64, 67, 0.3), 0px 1px 3px 1px rgba(60, 64, 67, 0.15);\n",
              "      fill: #174EA6;\n",
              "    }\n",
              "\n",
              "    .colab-df-buttons div {\n",
              "      margin-bottom: 4px;\n",
              "    }\n",
              "\n",
              "    [theme=dark] .colab-df-convert {\n",
              "      background-color: #3B4455;\n",
              "      fill: #D2E3FC;\n",
              "    }\n",
              "\n",
              "    [theme=dark] .colab-df-convert:hover {\n",
              "      background-color: #434B5C;\n",
              "      box-shadow: 0px 1px 3px 1px rgba(0, 0, 0, 0.15);\n",
              "      filter: drop-shadow(0px 1px 2px rgba(0, 0, 0, 0.3));\n",
              "      fill: #FFFFFF;\n",
              "    }\n",
              "  </style>\n",
              "\n",
              "    <script>\n",
              "      const buttonEl =\n",
              "        document.querySelector('#df-68c30ca9-ea9d-4ec5-8bbb-22ecec3ed2fd button.colab-df-convert');\n",
              "      buttonEl.style.display =\n",
              "        google.colab.kernel.accessAllowed ? 'block' : 'none';\n",
              "\n",
              "      async function convertToInteractive(key) {\n",
              "        const element = document.querySelector('#df-68c30ca9-ea9d-4ec5-8bbb-22ecec3ed2fd');\n",
              "        const dataTable =\n",
              "          await google.colab.kernel.invokeFunction('convertToInteractive',\n",
              "                                                    [key], {});\n",
              "        if (!dataTable) return;\n",
              "\n",
              "        const docLinkHtml = 'Like what you see? Visit the ' +\n",
              "          '<a target=\"_blank\" href=https://colab.research.google.com/notebooks/data_table.ipynb>data table notebook</a>'\n",
              "          + ' to learn more about interactive tables.';\n",
              "        element.innerHTML = '';\n",
              "        dataTable['output_type'] = 'display_data';\n",
              "        await google.colab.output.renderOutput(dataTable, element);\n",
              "        const docLink = document.createElement('div');\n",
              "        docLink.innerHTML = docLinkHtml;\n",
              "        element.appendChild(docLink);\n",
              "      }\n",
              "    </script>\n",
              "  </div>\n",
              "\n",
              "\n",
              "<div id=\"df-5dfb50e4-14f2-4a7c-af12-76f93e1f7140\">\n",
              "  <button class=\"colab-df-quickchart\" onclick=\"quickchart('df-5dfb50e4-14f2-4a7c-af12-76f93e1f7140')\"\n",
              "            title=\"Suggest charts.\"\n",
              "            style=\"display:none;\">\n",
              "\n",
              "<svg xmlns=\"http://www.w3.org/2000/svg\" height=\"24px\"viewBox=\"0 0 24 24\"\n",
              "     width=\"24px\">\n",
              "    <g>\n",
              "        <path d=\"M19 3H5c-1.1 0-2 .9-2 2v14c0 1.1.9 2 2 2h14c1.1 0 2-.9 2-2V5c0-1.1-.9-2-2-2zM9 17H7v-7h2v7zm4 0h-2V7h2v10zm4 0h-2v-4h2v4z\"/>\n",
              "    </g>\n",
              "</svg>\n",
              "  </button>\n",
              "\n",
              "<style>\n",
              "  .colab-df-quickchart {\n",
              "      --bg-color: #E8F0FE;\n",
              "      --fill-color: #1967D2;\n",
              "      --hover-bg-color: #E2EBFA;\n",
              "      --hover-fill-color: #174EA6;\n",
              "      --disabled-fill-color: #AAA;\n",
              "      --disabled-bg-color: #DDD;\n",
              "  }\n",
              "\n",
              "  [theme=dark] .colab-df-quickchart {\n",
              "      --bg-color: #3B4455;\n",
              "      --fill-color: #D2E3FC;\n",
              "      --hover-bg-color: #434B5C;\n",
              "      --hover-fill-color: #FFFFFF;\n",
              "      --disabled-bg-color: #3B4455;\n",
              "      --disabled-fill-color: #666;\n",
              "  }\n",
              "\n",
              "  .colab-df-quickchart {\n",
              "    background-color: var(--bg-color);\n",
              "    border: none;\n",
              "    border-radius: 50%;\n",
              "    cursor: pointer;\n",
              "    display: none;\n",
              "    fill: var(--fill-color);\n",
              "    height: 32px;\n",
              "    padding: 0;\n",
              "    width: 32px;\n",
              "  }\n",
              "\n",
              "  .colab-df-quickchart:hover {\n",
              "    background-color: var(--hover-bg-color);\n",
              "    box-shadow: 0 1px 2px rgba(60, 64, 67, 0.3), 0 1px 3px 1px rgba(60, 64, 67, 0.15);\n",
              "    fill: var(--button-hover-fill-color);\n",
              "  }\n",
              "\n",
              "  .colab-df-quickchart-complete:disabled,\n",
              "  .colab-df-quickchart-complete:disabled:hover {\n",
              "    background-color: var(--disabled-bg-color);\n",
              "    fill: var(--disabled-fill-color);\n",
              "    box-shadow: none;\n",
              "  }\n",
              "\n",
              "  .colab-df-spinner {\n",
              "    border: 2px solid var(--fill-color);\n",
              "    border-color: transparent;\n",
              "    border-bottom-color: var(--fill-color);\n",
              "    animation:\n",
              "      spin 1s steps(1) infinite;\n",
              "  }\n",
              "\n",
              "  @keyframes spin {\n",
              "    0% {\n",
              "      border-color: transparent;\n",
              "      border-bottom-color: var(--fill-color);\n",
              "      border-left-color: var(--fill-color);\n",
              "    }\n",
              "    20% {\n",
              "      border-color: transparent;\n",
              "      border-left-color: var(--fill-color);\n",
              "      border-top-color: var(--fill-color);\n",
              "    }\n",
              "    30% {\n",
              "      border-color: transparent;\n",
              "      border-left-color: var(--fill-color);\n",
              "      border-top-color: var(--fill-color);\n",
              "      border-right-color: var(--fill-color);\n",
              "    }\n",
              "    40% {\n",
              "      border-color: transparent;\n",
              "      border-right-color: var(--fill-color);\n",
              "      border-top-color: var(--fill-color);\n",
              "    }\n",
              "    60% {\n",
              "      border-color: transparent;\n",
              "      border-right-color: var(--fill-color);\n",
              "    }\n",
              "    80% {\n",
              "      border-color: transparent;\n",
              "      border-right-color: var(--fill-color);\n",
              "      border-bottom-color: var(--fill-color);\n",
              "    }\n",
              "    90% {\n",
              "      border-color: transparent;\n",
              "      border-bottom-color: var(--fill-color);\n",
              "    }\n",
              "  }\n",
              "</style>\n",
              "\n",
              "  <script>\n",
              "    async function quickchart(key) {\n",
              "      const quickchartButtonEl =\n",
              "        document.querySelector('#' + key + ' button');\n",
              "      quickchartButtonEl.disabled = true;  // To prevent multiple clicks.\n",
              "      quickchartButtonEl.classList.add('colab-df-spinner');\n",
              "      try {\n",
              "        const charts = await google.colab.kernel.invokeFunction(\n",
              "            'suggestCharts', [key], {});\n",
              "      } catch (error) {\n",
              "        console.error('Error during call to suggestCharts:', error);\n",
              "      }\n",
              "      quickchartButtonEl.classList.remove('colab-df-spinner');\n",
              "      quickchartButtonEl.classList.add('colab-df-quickchart-complete');\n",
              "    }\n",
              "    (() => {\n",
              "      let quickchartButtonEl =\n",
              "        document.querySelector('#df-5dfb50e4-14f2-4a7c-af12-76f93e1f7140 button');\n",
              "      quickchartButtonEl.style.display =\n",
              "        google.colab.kernel.accessAllowed ? 'block' : 'none';\n",
              "    })();\n",
              "  </script>\n",
              "</div>\n",
              "    </div>\n",
              "  </div>\n"
            ]
          },
          "metadata": {},
          "execution_count": 3
        }
      ],
      "source": [
        "train_df.head()"
      ]
    },
    {
      "cell_type": "code",
      "source": [
        "#El dataframe de entrenamiento toma el index, sin embargo se trabajará con los 784 vectores\n",
        "train_df.shape"
      ],
      "metadata": {
        "colab": {
          "base_uri": "https://localhost:8080/"
        },
        "id": "djrdZEr7s_Y9",
        "outputId": "e9b3cf53-9265-4957-f6f3-dd595aef1985"
      },
      "execution_count": 4,
      "outputs": [
        {
          "output_type": "execute_result",
          "data": {
            "text/plain": [
              "(27455, 785)"
            ]
          },
          "metadata": {},
          "execution_count": 4
        }
      ]
    },
    {
      "cell_type": "code",
      "source": [
        "#El dataframe de validación toma el index, sin embargo se trabajará con los 784 vectores\n",
        "valid_df.shape"
      ],
      "metadata": {
        "colab": {
          "base_uri": "https://localhost:8080/"
        },
        "id": "zl8la8k78bwu",
        "outputId": "af8398eb-ad03-4f3b-ab41-f518a903ff4d"
      },
      "execution_count": 5,
      "outputs": [
        {
          "output_type": "execute_result",
          "data": {
            "text/plain": [
              "(7172, 785)"
            ]
          },
          "metadata": {},
          "execution_count": 5
        }
      ]
    },
    {
      "cell_type": "markdown",
      "metadata": {
        "id": "MjUALoeeeRxk"
      },
      "source": [
        "## **Importar Images**"
      ]
    },
    {
      "cell_type": "markdown",
      "source": [
        "### Se define  la **y** de entrenamiento y la **y** de validación"
      ],
      "metadata": {
        "id": "y8uYKE_oSl5x"
      }
    },
    {
      "cell_type": "code",
      "execution_count": 6,
      "metadata": {
        "id": "ocXac74ueRxk"
      },
      "outputs": [],
      "source": [
        "y_train = np.array(train_df['label'])\n",
        "y_val = np.array(valid_df['label'])\n",
        "del train_df['label']\n",
        "del valid_df['label']\n",
        "x_train = train_df.values.astype(np.float32)\n",
        "x_val = valid_df.values.astype(np.float32)"
      ]
    },
    {
      "cell_type": "markdown",
      "source": [
        "### Función para generar un un split de los datos que regresa entradas de validación/test y salida de validación/test"
      ],
      "metadata": {
        "id": "jCCQkO4USxHf"
      }
    },
    {
      "cell_type": "code",
      "execution_count": 7,
      "metadata": {
        "code_folding": [],
        "id": "T9mUNMPkeRxk"
      },
      "outputs": [],
      "source": [
        "def split_val_test(x, y, pct=0.5, shuffle=True):\n",
        "    '''\n",
        "    Create a function that will allow you to split the previously loaded validation set\n",
        "    into valition and test.\n",
        "    '''\n",
        "    if shuffle:\n",
        "        # randomize the indexes\n",
        "        indexes = np.arange(len(x))\n",
        "        np.random.shuffle(indexes)\n",
        "        x = x[indexes]\n",
        "        y = y[indexes]\n",
        "\n",
        "    # Calculate the split index\n",
        "    split_index = int(len(x) * pct)\n",
        "\n",
        "    # Split the data into validation and test sets\n",
        "    x_val = x[:split_index]\n",
        "    y_val = y[:split_index]\n",
        "    x_test = x[split_index:]\n",
        "    y_test = y[split_index:]\n",
        "\n",
        "    return x_val, y_val, x_test, y_test"
      ]
    },
    {
      "cell_type": "code",
      "execution_count": 8,
      "metadata": {
        "id": "DPv8WrQaeRxl"
      },
      "outputs": [],
      "source": [
        "x_val, y_val, x_test, y_test = split_val_test(x_val, y_val)"
      ]
    },
    {
      "cell_type": "markdown",
      "source": [
        "### Se remueve la **j** y la **z** ya que no se encuentran en los set de datos de mnist"
      ],
      "metadata": {
        "id": "Zc4xqQfzTNz5"
      }
    },
    {
      "cell_type": "code",
      "execution_count": 9,
      "metadata": {
        "colab": {
          "base_uri": "https://localhost:8080/"
        },
        "id": "9FnwGZ5KeRxl",
        "outputId": "14cd4e9f-9106-43f5-ed97-88bd1fdb1349"
      },
      "outputs": [
        {
          "output_type": "stream",
          "name": "stdout",
          "text": [
            "24\n"
          ]
        }
      ],
      "source": [
        "### The following\n",
        "\n",
        "alphabet=list(string.ascii_lowercase)\n",
        "alphabet.remove('j')\n",
        "alphabet.remove('z')\n",
        "print(len(alphabet))"
      ]
    },
    {
      "cell_type": "markdown",
      "metadata": {
        "id": "aT-FFxVZeRxl"
      },
      "source": [
        "### **Normalise**"
      ]
    },
    {
      "cell_type": "markdown",
      "source": [
        "#### Función para normalizar la imagén al igual que los datos"
      ],
      "metadata": {
        "id": "Eu6WWWe-US1I"
      }
    },
    {
      "cell_type": "code",
      "source": [
        "def normalize_image(image_data):\n",
        "    #normalize the pixel colors\n",
        "    normalized_image = (image_data - image_data.min()) / (image_data.max() - image_data.min())\n",
        "    return image_data"
      ],
      "metadata": {
        "id": "dHYe_zk6zudg"
      },
      "execution_count": 10,
      "outputs": []
    },
    {
      "cell_type": "code",
      "source": [
        "def normalise(x_mean, x_std, x_data):\n",
        "    #normalize the data.\n",
        "    return (x_data - x_mean) / x_std"
      ],
      "metadata": {
        "id": "qJQSwj5c6nyx"
      },
      "execution_count": 11,
      "outputs": []
    },
    {
      "cell_type": "code",
      "source": [
        "#cálculo del promedio y la desviación estandar de los datos.\n",
        "x_mean = x_train.mean()\n",
        "x_std = x_train.std()\n",
        "\n",
        "x_train = normalise(x_mean, x_std, x_train)\n",
        "x_val = normalise(x_mean, x_std, x_val)\n",
        "x_test = normalise(x_mean, x_std, x_test)"
      ],
      "metadata": {
        "id": "F9g-iIsV6tHO"
      },
      "execution_count": 12,
      "outputs": []
    },
    {
      "cell_type": "markdown",
      "metadata": {
        "id": "8cB6UIM3eRxl"
      },
      "source": [
        "### Graficar muestras"
      ]
    },
    {
      "cell_type": "code",
      "execution_count": 13,
      "metadata": {
        "id": "_9cG5tyFyh5d"
      },
      "outputs": [],
      "source": [
        "def Plot_Image(image):\n",
        "    #reshape to plot the image sqr(784) = 28 pixel imgs\n",
        "    image = np.reshape(image, (28, 28))\n",
        "    plt.figure(figsize=(5,5))\n",
        "    plt.imshow(image.squeeze(), cmap=plt.get_cmap('gray'))\n",
        "    plt.axis('off')\n",
        "    plt.show()"
      ]
    },
    {
      "cell_type": "markdown",
      "source": [
        "#### Se muestra una imagen aleatoria y muestra el texto al que corresponde y se manda a la función plot_image"
      ],
      "metadata": {
        "id": "U8VksMXja2tF"
      }
    },
    {
      "cell_type": "code",
      "source": [
        "# Se elige un índice aleatorio del conjunto de pruebas x_test\n",
        "rnd_idx = np.random.randint(len(x_test))\n",
        "# Uso  del índice aleatorio para obtener una imagen específica del conjunto de pruebas\n",
        "image_data = x_test[rnd_idx]\n",
        "# Se normaliza la imagen con la función normalize_image definida anteriormente\n",
        "image_data = normalize_image(image_data)\n",
        "# Se imprime la etiqueta (ye_test) correspondiente a la imagen seleccionada utilizando el índice aleatorio.\n",
        "# Se imprime como diccionario 'alphabet' que mapea los índices a letras.\n",
        "print(f'Pictures is letter: {alphabet[y_test[rnd_idx]]}')\n",
        "# Muestra la imagen\n",
        "Plot_Image(image_data)"
      ],
      "metadata": {
        "colab": {
          "base_uri": "https://localhost:8080/",
          "height": 439
        },
        "id": "PyU2xOncylvB",
        "outputId": "499d677a-afa1-448b-82cc-2bb8ecf1f260"
      },
      "execution_count": 14,
      "outputs": [
        {
          "output_type": "stream",
          "name": "stdout",
          "text": [
            "Pictures is letter: x\n"
          ]
        },
        {
          "output_type": "display_data",
          "data": {
            "text/plain": [
              "<Figure size 500x500 with 1 Axes>"
            ],
            "image/png": "[encoded data removed]"
          },
          "metadata": {}
        }
      ]
    },
    {
      "cell_type": "markdown",
      "metadata": {
        "id": "eGe6MvRKeRxm"
      },
      "source": [
        "### Ecuaciones para nuestro modelo\n",
        "\n",
        "\n",
        "$$z^1 = W^1 X + b^1$$\n",
        "\n",
        "$$a^1 = ReLU(z^1) $$\n",
        "\n",
        "$$z^2 = W^2 a^1 + b^2$$\n",
        "\n",
        "$$\\hat{y} = \\frac{e^{z^{2_k}}}{\\sum_j{e^{z_j}}}$$\n",
        "\n",
        "\n",
        "$$ \\mathcal{L}(\\hat{y}^{i}, y^{i}) =  - y^{i}  \\ln(\\hat{y}^{i}) = -\\ln(\\hat{y}^i)$$\n",
        "\n",
        "\n",
        "$$ \\mathcal{J}(w, b) =  \\frac{1}{num\\_samples} \\sum_{i=1}^{num\\_samples}-\\ln(\\hat{y}^{i})$$"
      ]
    },
    {
      "cell_type": "markdown",
      "metadata": {
        "id": "dSfcmVxyeRxm"
      },
      "source": [
        "### Funciones adicionales"
      ]
    },
    {
      "cell_type": "markdown",
      "metadata": {
        "id": "LzWWChkgeRxm"
      },
      "source": [
        "### **Mini batches**"
      ]
    },
    {
      "cell_type": "markdown",
      "source": [
        "**¿Para qué se crean los mini batch?**"
      ],
      "metadata": {
        "id": "0q4Mitv-DpZ_"
      }
    },
    {
      "cell_type": "markdown",
      "source": [
        "***Se crean mini batch para acelerar el proceso de entrenamiento, también mejora el rendimiento del modelo y permite obtener mejor accurracy en nuestro modelo***"
      ],
      "metadata": {
        "id": "y6jMJFRxZyPJ"
      }
    },
    {
      "cell_type": "code",
      "execution_count": 15,
      "metadata": {
        "id": "LfyRNgTaeRxm"
      },
      "outputs": [],
      "source": [
        "#Se divide los datos (x, y) en mini-lotes de tamaño mb_size.\n",
        "def create_minibatches(mb_size, x, y, shuffle = True):\n",
        "    \"\"\"\n",
        "    Generate minibatches of size 'mb_size' from input data 'x' and labels 'y'.\n",
        "\n",
        "    Args:\n",
        "        mb_size (int): Mini-batch size.\n",
        "        x (numpy.ndarray): Input data of shape (samples, features).\n",
        "        y (numpy.ndarray): Labels of shape (samples, 1).\n",
        "        shuffle (bool, optional): Whether to shuffle the data. Defaults to True.\n",
        "\n",
        "    Returns:\n",
        "        generator: A generator yielding mini-batches of input data and labels.\n",
        "    \"\"\"\n",
        "\n",
        "# Nos aseguramos de que el número de muestras (samples) en x sea igual al número de muestras en y\n",
        "# Si no es así, nos arrojará un error con el mensaje: 'Error: Number of samples mismatch'\n",
        "    assert x.shape[0] == y.shape[0], 'Error: Number of samples mismatch'\n",
        "\n",
        "# Guardamos el número total de muestras en la variable 'total_data'\n",
        "    total_data = x.shape[0]\n",
        "\n",
        "# Se realiza un ciclo condicional\n",
        "    if shuffle:\n",
        "\n",
        "# Se debe crear una lista de índices que representan cada muestra\n",
        "        idxs = np.arange(total_data)\n",
        "\n",
        "# Los índices deben tomar una forma alterna\n",
        "        np.random.shuffle(idxs)\n",
        "\n",
        "# Se reordenan las muestras en x y y según los índices mezclados\n",
        "        x = x[idxs]\n",
        "        y = y[idxs]\n",
        "\n",
        "#create the mini batches set and return them to the caller\n",
        "    return ((x[i:i+mb_size], y[i:i+mb_size]) for i in range(0, total_data, mb_size))"
      ]
    },
    {
      "cell_type": "markdown",
      "metadata": {
        "id": "uzpe8bvMeRxm"
      },
      "source": [
        "##**Nuestra clase Linear, ReLU y Sequential**"
      ]
    },
    {
      "cell_type": "markdown",
      "source": [
        "![evidencia3](https://i.imgur.com/a7rr7tX.jpg[/img])"
      ],
      "metadata": {
        "id": "EDYaKIrEI_7Q"
      }
    },
    {
      "cell_type": "markdown",
      "source": [
        "**¿Para qué nos sirven las clases Linear, ReLU y Sequencial? ¿Qué función cumplen en los modelos de aprendizaje profundo?**\n",
        "\n",
        "Como bien el profe ha explicado en clase, esta implementación se aplica a una red neuronal simple y nos ayuda a realizar la implementación de las operaciones de **FORWARD** y **BACKWARD**.\n",
        "\n",
        "En el caso de las Clase **linear** inicializa la función con **__init__** allí toma el tamaño inicla de las entradas y las salidas como argumentos, representando allí la cantidad de neuronas que se encuentran en la capa anterior y en la ques e encuentra (capa actual) .\n",
        "\n",
        "En el caso de la aplicación de los pesos (**W**) crea una variable llamada **self.W** y hace uso de **Kaiming He** es muy conocida dentro del medio como una de las técnicas más acertadas que ayudan a combatir problemas de gradientes cuando se vuelven muy grandes o muy pequeños dentro de la aplicación del modelo entrenado.\n",
        "\n",
        "**__call__**: Permite a la clase que se comporte como una función en caso de requerirla. Específicamente nos ayudará que se comporte como el **forward** de la **capa lineal**: Tomal entrada **X** y la devuelve en salida **Z**.\n",
        "\n",
        "**self.W @ X** es una multiplicación de matrices entre las entradas y los pesos. Recordemos que para que el resultado sea condicionado a un valor se le aplica un valor b (**bias o sesgo**) o sea se realiza la sumatoria de **self.b**.\n",
        "\n",
        "Este resultado es el que inicia el método, para aplicar posteriormente la **función de activación (a)** una función de activación NO lineal (En este caso **ReLU**).\n",
        "\n",
        "Y finaliza con una función **backward** conocida también como **back propagation** que nos ayuda a calcular los gradientes de los parámetros de la red en función del **error**. Aquí sus argumentos son las **X** (Entradas de la capa) y **Z** (salidas de la capa).\n",
        "\n",
        "**X.grad** nos ayuda a calcular el gradiente de la entrada, necesario para realizar el back de propagación del error a través de la red entrenada.\n",
        "\n",
        "Parámetros como **self.W.grad** calcula el peso y **self.b.grad** calcula el sesgo. Valores que nos ayudarán en un futuro proceso para estar actualizando los valores de los pesos y de los sesgos en cada ciclo."
      ],
      "metadata": {
        "id": "B4EVqDASJQgg"
      }
    },
    {
      "cell_type": "code",
      "source": [
        "class np_tensor(np.ndarray): pass"
      ],
      "metadata": {
        "id": "m174CpVH7CXR"
      },
      "execution_count": 16,
      "outputs": []
    },
    {
      "cell_type": "markdown",
      "metadata": {
        "id": "vpVVk_qMeRxm"
      },
      "source": [
        "###  **Clase Linear**"
      ]
    },
    {
      "cell_type": "markdown",
      "source": [
        "Las **Clases Linear** nos ayudan a identificar patrones en nuestro modelo y de ahí realizar las transforamciones correspondientes posteriormete.\n",
        "\n",
        "Es interesante encontrar dentro de esta función, que inicializa una posible idea del comportamiento que tendrá nuestro modelo, sin embargo, no es suficiente, pues si continúaramos realizando el modelo con una función lineal, su resultado sería igual y nunca aprenderían de forma orgánicanuestros modelos.\n",
        "\n",
        "Recordemos que el resultado de una función es una recta:\n",
        "\n",
        "$$y = mx + b^1$$"
      ],
      "metadata": {
        "id": "g-hXOjqFD1tt"
      }
    },
    {
      "cell_type": "code",
      "source": [
        "# Se define una clase llamada 'Linear'\n",
        "class Linear():\n",
        "\n",
        "    # Se crea el método init para la clase 'Linear'\n",
        "    def __init__(self, input_size, output_size):\n",
        "        '''\n",
        "        Init parameters utilizando Kaiming He\n",
        "        '''\n",
        "\n",
        "# Se inicializa los pesos (W) de la capa lineal\n",
        "# Se utiliza una inicialización basada en la raíz cuadrada del tamaño de entrada, que a menudo se utiliza para mejorar la convergencia durante el entrenamiento.\n",
        "# Después de inicializar, se ajusta la forma del tensor (si es necesario) utilizando el método 'view'.\n",
        "        self.W = (np.random.randn(output_size, input_size) / np.sqrt(input_size/2)).view(np_tensor)\n",
        "        self.b = (np.zeros((output_size, 1))).view(np_tensor)\n",
        "\n",
        "# Se define el método __call__ para la clase, lo que permite que las instancias de la clase se llamen como funciones\n",
        "\n",
        "    def __call__(self, X): # esta el forward de la clase lineal\n",
        "\n",
        "        # Se realiza la operación lineal: multiplica los pesos (W) con los datos de entrada (X) y suma el sesgo (b)\n",
        "        Z = self.W @ X + self.b\n",
        "        return Z\n",
        "\n",
        "# Se realiza la retropropagación para la capa lineal.\n",
        "    def backward(self, X, Z):\n",
        "        X.grad = self.W.T @ Z.grad\n",
        "        self.W.grad = Z.grad @ X.T\n",
        "        self.b.grad = np.sum(Z.grad, axis = 1, keepdims=True)"
      ],
      "metadata": {
        "id": "mrE0kYTa7Jby"
      },
      "execution_count": 17,
      "outputs": []
    },
    {
      "cell_type": "markdown",
      "metadata": {
        "id": "esux1G63eRxm"
      },
      "source": [
        "### **Clase ReLU**\n",
        "\n",
        "$$f(x) = max(0, x)$$\n",
        "\n",
        "Conocida como **Rectified Linear Unit** convirtiendo los valores negativos a 0 y manteniendo los valores positivos sin cambios. (Tomado del video del profe)\n",
        "\n",
        "Existen otras funciones de activación muy conocidas en el mercado, tales como **Sigmoid o Logística** haciéndola útil para temas de **clasificación binaria**. Sin embargo, ReLU sigue siendo más precisa en este procesos de Redes Profundas.\n",
        "\n",
        "**Tanh (Tangente hiperbólica)** Ayuda con lo valores de salidas entre los rangos -1 y 1. Su resultado es más amplio que la Sigmoid.\n",
        "\n",
        "Cuando se desee hacer uso de algunas de estas funciones es importante comprender el contexto, la naturaleza de los datos y la arquitectura de Red."
      ]
    },
    {
      "cell_type": "code",
      "source": [
        "# La clase ReLU que nos ayudará a activar la capa en dos funciones\n",
        "class ReLU():\n",
        "\n",
        "    # __call__ es una función especial en Python que permite que las instancias de una clase se comporten como funciones.\n",
        "    def __call__(self, Z):\n",
        "        return np.maximum(0, Z)\n",
        "\n",
        "    # Este método se utiliza para el paso de retropropagación (backpropagation) en redes neuronales. Calcula el gradiente de la función ReLU.\n",
        "    def backward(self, Z, A):\n",
        "        Z.grad = A.grad.copy()\n",
        "        Z.grad[Z <= 0] = 0"
      ],
      "metadata": {
        "id": "pLr7QXES7La-"
      },
      "execution_count": 18,
      "outputs": []
    },
    {
      "cell_type": "markdown",
      "metadata": {
        "id": "-AvgKQqVeRxn"
      },
      "source": [
        "### **Clase Sequential**\n",
        "\n",
        "Esta clase nos ayuda a construir modelos capa por capa de forma secunecial como su nombre lo dice y se van añadiendo una tras otra. Para nuestro ejercicio es ideal, ya que se adapta al modelo con entradas y salidas tensoriales, ya que es lineal apilando cada capa sin ningún tipo de fusiones. Se encuentra en la biblioteca de Keras integrada actualmente con Tensorflow, midiendo los modelos de una forma muy sencilla.\n",
        "\n",
        "No es un modelo que se adapte a redes con múltiples capas. Es muy práctico en su compilación, como vemos a través del código contiene funciones de pérdida y métricas que monitorean el modelo durante el entrenamiento.\n",
        "\n",
        "Si desglosamos el código podemos ver lo siguiente:\n",
        "\n",
        "Se inicia con un construyendo la clase **Sequential_layers()** y almacena las capas con **self.layers**, luego a través de la variable **self.x** almacenará a futuro lo valores que se ingresen de forma manual.\n",
        "\n",
        "A través de un diccionario **self.outputs** almacenará los valores de las salidas de las capas.\n",
        "\n",
        "Al igual que en la calse **Linear** se crea el método **__call**__** para que opere como una función también dentro del procesos. En esta ocasión el código final retorna la salidad de la última capa.\n",
        "\n",
        "También realiza una operación de propagación hacia atrás para actualizar los datos de los gradientes de cada capa (desde la última hasta la primera).\n",
        "\n",
        "Se actualizan los pesos y los sesgos con el método de descenso del gradiente. Recorre una a una las capas y si (Ciclo For **If**) no es del tipo ReLU, actualiza sus pesos y sesgos haciendo uso de **learning_rate**.\n",
        "\n",
        "Finalmente mediante **predict** se retorna el valor máximo de salida (**argmax**) de numpy para clasificar el resultado.\n",
        "\n",
        "\n",
        "\n"
      ]
    },
    {
      "cell_type": "code",
      "source": [
        "# Se inicializa la instancia con una lista de layers\n",
        "class Sequential_layers():\n",
        "    def __init__(self, layers):\n",
        "        '''\n",
        "        layers - lista que contiene objetos de tipo Linear, ReLU\n",
        "        '''\n",
        "\n",
        "        # Se instancia de esta clase, procesará la entrada X a través de todas las capas en self.layers de forma secuencial.\n",
        "        self.layers = layers\n",
        "        self.x = None\n",
        "        self.outputs = {}\n",
        "\n",
        "    # Se llama a una instancia de esta clase, procesará la entrada X a través de todas las capas en self.layers\n",
        "    def __call__(self, X):\n",
        "        self.x = X\n",
        "        self.outputs['l0'] = self.x\n",
        "        for i, layer in enumerate(self.layers, 1):\n",
        "            self.x = layer(self.x)\n",
        "            self.outputs['l'+str(i)]=self.x\n",
        "        return self.x\n",
        "\n",
        "    # Se realiza el paso de retropropagación a través de la red.\n",
        "    def backward(self):\n",
        "        for i in reversed(range(len(self.layers))):\n",
        "            self.layers[i].backward(self.outputs['l'+str(i)], self.outputs['l'+str(i+1)])\n",
        "\n",
        "    #Se actualiza los pesos (W) y los sesgos (b) de cada capa en la red\n",
        "    def update(self, learning_rate = 1e-3):\n",
        "        for layer in self.layers:\n",
        "            if isinstance(layer, ReLU): continue\n",
        "            layer.W = layer.W - learning_rate * layer.W.grad\n",
        "            layer.b = layer.b - learning_rate * layer.b.grad\n",
        "\n",
        "    # Se devuelve la predicción de clase para una entrada X\n",
        "    def predict(self, X):\n",
        "        return np.argmax(self.__call__(X))"
      ],
      "metadata": {
        "id": "aWwF8v347OK7"
      },
      "execution_count": 19,
      "outputs": []
    },
    {
      "cell_type": "markdown",
      "metadata": {
        "id": "bXSvtYy8eRxn"
      },
      "source": [
        "### **Cost Function**\n",
        "\n",
        "Bajo el siguiente ejercicio podemos ver los resultados de la eficacia de nuestro modelo entre la **Y Real** y nuestra **Y de predicción**. Representado gráficamente podemos verlo a través del siguiente ejemplo:\n",
        "\n",
        "![evidencia3](https://i.imgur.com/1VuEh18.png)\n",
        "$$IMG-Tomada-de-Blog-IBM$$\n",
        "\n",
        "Esta pérdida o costo le permite al modelo ajustar los parámetros moviéndose continuamente hasta que el modelo deja de aprender. _\"Vale la pena señalar que una función de pérdida se refiere al error de un ejemplo de entrenamiento, mientras que una función de costo calcula el error promedio en todo un conjunto de entrenamiento.\"_"
      ]
    },
    {
      "cell_type": "code",
      "source": [
        "def softmaxXEntropy(x, y):\n",
        "    batch_size = x.shape[1]\n",
        "    exp_scores = np.exp(x)\n",
        "    probs = exp_scores / exp_scores.sum(axis = 0)\n",
        "    preds = probs.copy()\n",
        "    # Costo\n",
        "    y_hat = probs[y.squeeze(), np.arange(batch_size)]\n",
        "    cost = np.sum(-np.log(y_hat)) / batch_size\n",
        "    # Calcular gradientes\n",
        "    probs[y.squeeze(), np.arange(batch_size)] -= 1 #dl/dx\n",
        "    x.grad = probs.copy()\n",
        "\n",
        "    return preds, cost"
      ],
      "metadata": {
        "id": "0u_mvzR07R4W"
      },
      "execution_count": 20,
      "outputs": []
    },
    {
      "cell_type": "markdown",
      "metadata": {
        "id": "qLcoYfG8eRxn"
      },
      "source": [
        "### **Loop de entrenamiento**"
      ]
    },
    {
      "cell_type": "code",
      "source": [
        "def accuracy(x, y, mb_size):\n",
        "    correct = 0\n",
        "    total = 0\n",
        "    for i, (x, y) in enumerate(create_minibatches(mb_size, x, y)):\n",
        "        pred = model(x.T.view(np_tensor))\n",
        "        correct += np.sum(np.argmax(pred, axis=0) == y.squeeze())\n",
        "        total += pred.shape[1]\n",
        "    return correct/total"
      ],
      "metadata": {
        "id": "gOs8gZpH7Z_k"
      },
      "execution_count": 21,
      "outputs": []
    },
    {
      "cell_type": "code",
      "source": [
        "def train(model, epochs, mb_size=128, learning_rate = 1e-3):\n",
        "    for epoch in range(epochs):\n",
        "        for i, (x, y) in enumerate(create_minibatches(mb_size, x_train, y_train)):\n",
        "            scores = model(x.T.view(np_tensor))\n",
        "            _, cost = softmaxXEntropy(scores, y)\n",
        "            model.backward()\n",
        "            model.update(learning_rate)\n",
        "        print(f'costo: {cost}, accuracy: {accuracy(x_val, y_val, mb_size)}')"
      ],
      "metadata": {
        "id": "ThS-5KJ17UR0"
      },
      "execution_count": 22,
      "outputs": []
    },
    {
      "cell_type": "markdown",
      "source": [
        "\n",
        "# Evaluación de Hiperparámetros del Modelo\n",
        "\n",
        "A continuación se detallan los hiperparámetros del modelo, incluyendo la cantidad de neuronas y capas ocultas, así como el tamaño del lote, la tasa de aprendizaje y las épocas que representan la cantidad de iteraciones. También se presentan los resultados más relevantes obtenidos durante el proceso de búsqueda de los mejores parámetros.\n",
        "\n",
        "## Primera Combinación:\n",
        "\n",
        "### Parámetros:\n",
        "\n",
        "- Capas Ocultas: 1\n",
        "- Cantidad de Neuronas: 100\n",
        "- ReLu al final: No\n",
        "- Tamaño del Lote: 1024\n",
        "- Tasa de Aprendizaje: 1e-2\n",
        "- Épocas: 5\n",
        "\n",
        "### Resultados:\n",
        "\n",
        "- Último Costo: nan\n",
        "- Última Precisión: 0.046\n",
        "- Precisión: 0.0459\n",
        "\n",
        "## Segunda Combinación:\n",
        "\n",
        "### Parámetros:\n",
        "\n",
        "- Capas Ocultas: 1\n",
        "- ReLu al final: No\n",
        "- Cantidad de Neuronas: 500\n",
        "- Tamaño del Lote: 128\n",
        "- Tasa de Aprendizaje: 1e-4\n",
        "- Épocas: 5\n",
        "\n",
        "### Resultados:\n",
        "\n",
        "- Último Costo: 0.0727\n",
        "- Última Precisión: 0.7747\n",
        "- Precisión: 0.7409\n",
        "\n",
        "## Tercera Combinación:\n",
        "\n",
        "### Parámetros:\n",
        "\n",
        "- Capas Ocultas: 1\n",
        "- ReLu al final: Sí\n",
        "- Cantidad de Neuronas: 400\n",
        "- Tamaño del Lote: 256\n",
        "- Tasa de Aprendizaje: 1e-3\n",
        "- Épocas: 10\n",
        "\n",
        "### Resultados:\n",
        "\n",
        "- Último Costo: 0.0017\n",
        "- Última Precisión: 0.7944\n",
        "- Precisión: 0.8064\n",
        "\n",
        "## Cuarta Combinación:\n",
        "\n",
        "### Parámetros:\n",
        "\n",
        "- Capas Ocultas: 1\n",
        "- ReLu al final: Sí\n",
        "- Cantidad de Neuronas: 500\n",
        "- Tamaño del Lote: 280\n",
        "- Tasa de Aprendizaje: 1e-3\n",
        "- Épocas: 10\n",
        "\n",
        "### Resultados:\n",
        "\n",
        "- Último Costo: 0.0022\n",
        "- Última Precisión: 0.8100\n",
        "- Precisión: 0.8189\n",
        "\n",
        "## Quinta Combinación (Mejor):\n",
        "\n",
        "### Parámetros:\n",
        "\n",
        "- Capas Ocultas: 2\n",
        "- ReLu al final: No\n",
        "- Cantidad de Neuronas: 300\n",
        "- Tamaño del Lote: 256\n",
        "- Tasa de Aprendizaje: 1e-3\n",
        "- Épocas: 10\n",
        "\n",
        "### Resultados:\n",
        "\n",
        "- Último Costo: 0.0006\n",
        "- Última Precisión: 0.8078\n",
        "- Precisión: 0.8059\n"
      ],
      "metadata": {
        "id": "E-RD6XzFsJTh"
      }
    },
    {
      "cell_type": "code",
      "execution_count": 35,
      "metadata": {
        "id": "22SuKm3ZeRxn"
      },
      "outputs": [],
      "source": [
        "model = Sequential_layers( [Linear(784, 300), ReLU(), Linear(300, 300), ReLU(), Linear(300, 300),  ReLU(), Linear(300, 24)] )\n",
        "mb_size = 256\n",
        "learning_rate = 1e-3\n",
        "epochs = 10\n"
      ]
    },
    {
      "cell_type": "markdown",
      "source": [
        "Se genera un bloque para entrenar el modelo, ya que aveces en la primera ejecución no convergia pudiendo deberse al conjunto de datos con los cuales se entrenaba."
      ],
      "metadata": {
        "id": "4YquvTruwAe0"
      }
    },
    {
      "cell_type": "code",
      "source": [
        "train(model, epochs, mb_size, learning_rate)"
      ],
      "metadata": {
        "colab": {
          "base_uri": "https://localhost:8080/"
        },
        "id": "7Aq6i4U57gev",
        "outputId": "c43118ad-662b-44e2-c7d2-915529de4a2c"
      },
      "execution_count": 36,
      "outputs": [
        {
          "output_type": "stream",
          "name": "stdout",
          "text": [
            "costo: 0.020951171194372675, accuracy: 0.7827663134411601\n",
            "costo: 0.00829020119685202, accuracy: 0.7967094255437813\n",
            "costo: 0.0026510072248836654, accuracy: 0.8025655326268823\n",
            "costo: 0.0026030742682445424, accuracy: 0.7992191857222533\n",
            "costo: 0.002472037167135656, accuracy: 0.8047964305633017\n",
            "costo: 0.001354276213651953, accuracy: 0.8045175683212493\n",
            "costo: 0.0016425308642546233, accuracy: 0.8073061907417736\n",
            "costo: 0.0008615596751185042, accuracy: 0.8078639152258784\n",
            "costo: 0.0010643816693339792, accuracy: 0.8103736754043502\n",
            "costo: 0.0009898951545884158, accuracy: 0.8100948131622978\n"
          ]
        }
      ]
    },
    {
      "cell_type": "code",
      "source": [
        "print(accuracy(x_test, y_test, mb_size))"
      ],
      "metadata": {
        "id": "2Z64W5997igx",
        "colab": {
          "base_uri": "https://localhost:8080/"
        },
        "outputId": "99bb6c49-8af1-45e4-e5c9-89477306aefa"
      },
      "execution_count": 37,
      "outputs": [
        {
          "output_type": "stream",
          "name": "stdout",
          "text": [
            "0.809537088678193\n"
          ]
        }
      ]
    },
    {
      "cell_type": "markdown",
      "metadata": {
        "id": "6mQQOJHjeRxn"
      },
      "source": [
        "### Test your model on Random data from your test set"
      ]
    },
    {
      "cell_type": "markdown",
      "source": [
        "Se hace la prueba con un elemento del grupo de prueba y se valida el valor predicho con el valor real"
      ],
      "metadata": {
        "id": "MgW5Kh6pr7X0"
      }
    },
    {
      "cell_type": "code",
      "execution_count": 26,
      "metadata": {
        "id": "q4_Y6HSneRxn",
        "colab": {
          "base_uri": "https://localhost:8080/",
          "height": 439
        },
        "outputId": "92ba917e-90a3-4281-8b88-f5dd372555bd"
      },
      "outputs": [
        {
          "output_type": "display_data",
          "data": {
            "text/plain": [
              "<Figure size 500x500 with 1 Axes>"
            ],
            "image/png": "[encoded data removed]"
          },
          "metadata": {}
        },
        {
          "output_type": "stream",
          "name": "stdout",
          "text": [
            "el valor predicho es: b el valor real es:b\n"
          ]
        }
      ],
      "source": [
        "idx = np.random.randint(len(y_test))\n",
        "Plot_Image(x_test[idx].reshape(28,28))\n",
        "pred = model.predict(x_test[idx].reshape(-1, 1))\n",
        "print(f'el valor predicho es: {alphabet[pred]} el valor real es:{alphabet[y_test[idx]]}')"
      ]
    },
    {
      "cell_type": "markdown",
      "source": [
        "#**Conclusiones**\n",
        "\n",
        "* Número de capas ocultas y cantidad de neuronas: La mejor configuración parece ser la que tiene 2 capas ocultas y 300 neuronas en cada capa. Esto sugiere que un modelo ligeramente más profundo y ancho funcionó mejor en este caso en comparación con modelos más simples.\n",
        "\n",
        "* Función de activación: La inclusión de la función de activación ReLU al final de las capas ocultas parece haber mejorado el rendimiento del modelo en términos de precisión. Esto sugiere que la no linealidad introducida por ReLU fue beneficiosa en este caso.\n",
        "\n",
        "* Tamaño del lote (Batch Size): Un tamaño de lote de 256 se utilizó en la configuración que produjo el mejor resultado. Para las pruebas realizadas con tamaños inferiores y superiores diferentes evidentemente daba un resultado negativo en la precisión del modelo.\n",
        "\n",
        "* Tasa de aprendizaje (Learning Rate): Una tasa de aprendizaje de 1e-3 se utilizó en la configuración más exitosa. En la cual coincide con la sugerida por el docente ya que al utiliza una tasa más pequeña no permite que converja el modelo con una buena precisión, adicionalmente una tasa muy alta ocasiona problema con el entrenamiento y se obtienen errores en la función de costo.\n",
        "\n",
        "* Épocas (Epochs): En general, aumentar el número de épocas de entrenamiento mejoró el rendimiento del modelo. La configuración exitosa utilizó 10 épocas, lo que permitió al modelo aprender mejor y mejorar su precisión. Pero no significa que epocas superiores en este caso sigan mejorando el modelo ya que se evidencio tendencias a la baja en la precisión y adicional un costo más alto tiempo y recursos en el sistema.\n",
        "\n",
        "* Resultado destacado: La última configuración, con 2 capas ocultas, ReLU al final, 300 neuronas por capa, tamaño de lote de 256, tasa de aprendizaje de 1e-3 y 10 épocas de entrenamiento, produjo los mejores resultados, con un costo final muy bajo y una precisión destacable.\n",
        "\n",
        "* Se sugiere que la implementación de algun tratamiento previo de las imágenes para mejorar los resultados, pues la variabilidad entre los niveles de contraste e algunas imagenes es muy baja. El uso de un filtro paso bajo, umbralización o detección de bordes podrían resultar beneficioso.\n",
        "\n",
        "*   Considero que otro gran punto a evaluar, es saber ¿en qué contexto nos encontramos, la naturaleza de los datos y la arquitectura de red con que se trabajará? de tal manera que se pueda mediante pequeños lotes analizar lo que sucede con los datos que se entrenan inicialmente y así mismo tener encuenta la magnitud del resultado a lo que se quiere llegar.\n",
        "\n",
        "* A continuación veremos como matemáticamente se representa una red neuronal sencilla como la de nuestro ejercicio, tomando en cuenta la varianza y los resultados de la 0 hasta las iteraciones correspondientes:\n",
        "\n",
        "![evidencia3](https://i.imgur.com/hPhoTkn.jpg)\n",
        "$$IMG- Tomada de- ODSC - Ciencia-de-datos-abiertos$$\n",
        "\n",
        "* Igualmente veremos gráficamente un proceso de Deep Learning:\n",
        "\n",
        "![evidencia3](https://i.imgur.com/qiZc8Gj.png)\n",
        "$$IMG-Tomada-de-Research-Gate$$"
      ],
      "metadata": {
        "id": "G8Tb40ekFhp0"
      }
    },
    {
      "cell_type": "markdown",
      "source": [
        "#**BIBLIOGRAFÍA**\n",
        "\n",
        "* 2023. Inicialización de los pesos y bias en Deep Learning. Visto el 29 de Septiembre en: https://keepcoding.io/blog/inicializacion-pesos-bias-deep-learning/\n",
        "\n",
        "* Cantoral, Pepe Ph.D.Red (2021, 19 de Abril) Neuronal desde Cero. https://www.youtube.com/watch?v=W5HJKWL2i08\n",
        "\n",
        "\n",
        "* Aldabas,Rubira Emiliano (2023) Introducción al reconocimiento de patronesmediante redes neuronales. https://www.academia.edu/25789763/Introducci%C3%B3n_al_reconocimiento_de_patrones_mediante_redes_neuronales\n",
        "\n",
        "\n",
        "* ODSC - Ciencia de datos abiertos (209, 31 de Octubre) Sequence Modeling with Deep Learning. Visto el 29 de Septiembre en: https://odsc.medium.com/sequence-modelling-with-deep-learning-138dc50c82d2\n",
        "\n",
        "* Wang, Meng & Tai, Cheng & Ee, Weinan & Wei, Liping. (2018). DeFine: deep convolutional neural networks accurately quantify intensities of transcription factor-DNA binding and facilitate evaluation of functional non-coding variants. Nucleic acids research. 46. 10.1093/nar/gky215. [accessed 29 Sept, 2023]\n",
        "\n",
        "* ¿Qué es el descenso de gradiente?. Blog IBM Visto el 29 de Septiembre de: https://www.ibm.com/mx-es/topics/gradient-descent#:~:text=El%20descenso%20de%20gradiente%20estoc%C3%A1stico,f%C3%A1cil%20almacenarlos%20en%20la%20memoria.\n",
        "\n",
        "\n"
      ],
      "metadata": {
        "id": "WJ-jA9tImPpj"
      }
    }
  ],
  "metadata": {
    "kernelspec": {
      "display_name": "Python 3 (ipykernel)",
      "language": "python",
      "name": "python3"
    },
    "language_info": {
      "codemirror_mode": {
        "name": "ipython",
        "version": 3
      },
      "file_extension": ".py",
      "mimetype": "text/x-python",
      "name": "python",
      "nbconvert_exporter": "python",
      "pygments_lexer": "ipython3",
      "version": "3.9.0"
    },
    "toc": {
      "base_numbering": 1,
      "nav_menu": {},
      "number_sections": true,
      "sideBar": true,
      "skip_h1_title": false,
      "title_cell": "Table of Contents",
      "title_sidebar": "Contents",
      "toc_cell": false,
      "toc_position": {},
      "toc_section_display": true,
      "toc_window_display": false
    },
    "varInspector": {
      "cols": {
        "lenName": 16,
        "lenType": 16,
        "lenVar": 40
      },
      "kernels_config": {
        "python": {
          "delete_cmd_postfix": "",
          "delete_cmd_prefix": "del ",
          "library": "var_list.py",
          "varRefreshCmd": "print(var_dic_list())"
        },
        "r": {
          "delete_cmd_postfix": ") ",
          "delete_cmd_prefix": "rm(",
          "library": "var_list.r",
          "varRefreshCmd": "cat(var_dic_list()) "
        }
      },
      "types_to_exclude": [
        "module",
        "function",
        "builtin_function_or_method",
        "instance",
        "_Feature"
      ],
      "window_display": false
    },
    "colab": {
      "provenance": [],
      "include_colab_link": true
    }
  },
  "nbformat": 4,
  "nbformat_minor": 0
}